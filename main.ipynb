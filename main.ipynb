{
 "cells": [
  {
   "cell_type": "markdown",
   "metadata": {
    "toc": true
   },
   "source": [
    "<h1>Table of Contents<span class=\"tocSkip\"></span></h1>\n",
    "<div class=\"toc\"><ul class=\"toc-item\"><li><span><a href=\"#Functions\" data-toc-modified-id=\"Functions-1\"><span class=\"toc-item-num\">1&nbsp;&nbsp;</span>Functions</a></span><ul class=\"toc-item\"><li><span><a href=\"#1.-Write-a-function-that-returns-the-greater-of-two-numbers\" data-toc-modified-id=\"1.-Write-a-function-that-returns-the-greater-of-two-numbers-1.1\"><span class=\"toc-item-num\">1.1&nbsp;&nbsp;</span>1. Write a function that returns the greater of two numbers</a></span></li><li><span><a href=\"#2.-Now-write-a-function-that-returns-the-largest-element-on-a-list\" data-toc-modified-id=\"2.-Now-write-a-function-that-returns-the-largest-element-on-a-list-1.2\"><span class=\"toc-item-num\">1.2&nbsp;&nbsp;</span>2. Now write a function that returns the largest element on a list</a></span></li><li><span><a href=\"#3.-Write-a-function-that-sums-all-the-elements-on-a-list\" data-toc-modified-id=\"3.-Write-a-function-that-sums-all-the-elements-on-a-list-1.3\"><span class=\"toc-item-num\">1.3&nbsp;&nbsp;</span>3. Write a function that sums all the elements on a list</a></span></li><li><span><a href=\"#4.-Write-another-function-that-multiplies-all-the-elements-on-a-list\" data-toc-modified-id=\"4.-Write-another-function-that-multiplies-all-the-elements-on-a-list-1.4\"><span class=\"toc-item-num\">1.4&nbsp;&nbsp;</span>4. Write another function that multiplies all the elements on a list</a></span></li><li><span><a href=\"#5.-Now-combine-those-two-ideas-and-write-a-function-that-receives-a-list-and-either-&quot;+&quot;-or-&quot;*&quot;-and-outputs-acordingly\" data-toc-modified-id=\"5.-Now-combine-those-two-ideas-and-write-a-function-that-receives-a-list-and-either-&quot;+&quot;-or-&quot;*&quot;-and-outputs-acordingly-1.5\"><span class=\"toc-item-num\">1.5&nbsp;&nbsp;</span>5. Now combine those two ideas and write a function that receives a list and either \"+\" or \"*\" and outputs acordingly</a></span></li><li><span><a href=\"#6.-Write-a-function-that-returns-the-factorial-of-a-number.\" data-toc-modified-id=\"6.-Write-a-function-that-returns-the-factorial-of-a-number.-1.6\"><span class=\"toc-item-num\">1.6&nbsp;&nbsp;</span>6. Write a function that returns the factorial of a number.</a></span></li><li><span><a href=\"#7.-Write-a-function-that-takes-a-list-and-returns-a-list-of-the-unique-values.\" data-toc-modified-id=\"7.-Write-a-function-that-takes-a-list-and-returns-a-list-of-the-unique-values.-1.7\"><span class=\"toc-item-num\">1.7&nbsp;&nbsp;</span>7. Write a function that takes a list and returns a list of the unique values.</a></span></li><li><span><a href=\"#8.-Write-a-function-that-returns-the-mode-of-a-list,-i.e.:-the-element-that-appears-the-most-times.\" data-toc-modified-id=\"8.-Write-a-function-that-returns-the-mode-of-a-list,-i.e.:-the-element-that-appears-the-most-times.-1.8\"><span class=\"toc-item-num\">1.8&nbsp;&nbsp;</span>8. Write a function that returns the mode of a list, i.e.: the element that appears the most times.</a></span></li><li><span><a href=\"#9.-Write-a-function-that-calculates-the-standard-deviation-of-a-list.\" data-toc-modified-id=\"9.-Write-a-function-that-calculates-the-standard-deviation-of-a-list.-1.9\"><span class=\"toc-item-num\">1.9&nbsp;&nbsp;</span>9. Write a function that calculates the standard deviation of a list.</a></span></li><li><span><a href=\"#10.-Write-a-function-to-check-if-a-string-is-a-pangram,-i.e.:-if-it-contains-all-the-letters-of-the-alphabet-at-least-once.-Mind-that-the-strings-may-contain-characters-that-are-not-letters.\" data-toc-modified-id=\"10.-Write-a-function-to-check-if-a-string-is-a-pangram,-i.e.:-if-it-contains-all-the-letters-of-the-alphabet-at-least-once.-Mind-that-the-strings-may-contain-characters-that-are-not-letters.-1.10\"><span class=\"toc-item-num\">1.10&nbsp;&nbsp;</span>10. Write a function to check if a string is a pangram, i.e.: if it contains all the letters of the alphabet at least once. Mind that the strings may contain characters that are not letters.</a></span></li><li><span><a href=\"#11.-Write-a-function-that-receives-a-string-of-comma-separated-words-and-returns-a-string-of-comma-separated-words-sorted-alphabetically.\" data-toc-modified-id=\"11.-Write-a-function-that-receives-a-string-of-comma-separated-words-and-returns-a-string-of-comma-separated-words-sorted-alphabetically.-1.11\"><span class=\"toc-item-num\">1.11&nbsp;&nbsp;</span>11. Write a function that receives a string of comma separated words and returns a string of comma separated words sorted alphabetically.</a></span></li><li><span><a href=\"#12.-Write-a-function-to-check-if-a-given-password-is-strong-(at-least-8-characters,-at-least-one-lower-case,-at-least-one-upper-case,-at-least-one-number-and-at-least-one-special-character).-It-should-output-True-if-strong-and-False-if-not.\" data-toc-modified-id=\"12.-Write-a-function-to-check-if-a-given-password-is-strong-(at-least-8-characters,-at-least-one-lower-case,-at-least-one-upper-case,-at-least-one-number-and-at-least-one-special-character).-It-should-output-True-if-strong-and-False-if-not.-1.12\"><span class=\"toc-item-num\">1.12&nbsp;&nbsp;</span>12. Write a function to check if a given password is strong (at least 8 characters, at least one lower case, at least one upper case, at least one number and at least one special character). It should output True if strong and False if not.</a></span></li></ul></li></ul></div>"
   ]
  },
  {
   "cell_type": "markdown",
   "metadata": {},
   "source": [
    "# Functions"
   ]
  },
  {
   "cell_type": "markdown",
   "metadata": {},
   "source": [
    "On this lab we will put to practice some of the concepts we have learned on this past few days.\n",
    "\n",
    "`NOTE: On this lab you should try to write all the functions yourself using only the most basic of python syntax and without functions such as len, count, sum, max, min, in, etc. Give it a try. 🧑🏻‍💻👩🏻‍💻`\n",
    "\n",
    "The cell after each exercise contains a few tests to check if your function works as expected."
   ]
  },
  {
   "cell_type": "code",
   "execution_count": 1,
   "metadata": {},
   "outputs": [],
   "source": [
    "#Run this cell\n",
    "\n",
    "from mod.testing import *\n",
    "import unittest"
   ]
  },
  {
   "cell_type": "markdown",
   "metadata": {},
   "source": [
    "## 1. Write a function that returns the greater of two numbers"
   ]
  },
  {
   "cell_type": "code",
   "execution_count": 2,
   "metadata": {},
   "outputs": [],
   "source": [
    "def greater(a,b):\n",
    "    if a > b:\n",
    "        return a\n",
    "    else:\n",
    "        return b"
   ]
  },
  {
   "cell_type": "code",
   "execution_count": 3,
   "metadata": {},
   "outputs": [
    {
     "name": "stderr",
     "output_type": "stream",
     "text": [
      "....................................................................................................\n",
      "----------------------------------------------------------------------\n",
      "Ran 100 tests in 0.293s\n",
      "\n",
      "OK\n"
     ]
    }
   ],
   "source": [
    "# This will test your function \n",
    "test_greater(greater)"
   ]
  },
  {
   "cell_type": "markdown",
   "metadata": {},
   "source": [
    "## 2. Now write a function that returns the largest element on a list"
   ]
  },
  {
   "cell_type": "code",
   "execution_count": 4,
   "metadata": {},
   "outputs": [],
   "source": [
    "def greatest(arr):\n",
    "    result = 0\n",
    "\n",
    "    for i in arr:\n",
    "        \n",
    "        if i >= result: result = i\n",
    "\n",
    "    return result"
   ]
  },
  {
   "cell_type": "code",
   "execution_count": 5,
   "metadata": {},
   "outputs": [
    {
     "name": "stderr",
     "output_type": "stream",
     "text": [
      "....................................................................................................\n",
      "----------------------------------------------------------------------\n",
      "Ran 100 tests in 0.203s\n",
      "\n",
      "OK\n"
     ]
    }
   ],
   "source": [
    "# This will test your function \n",
    "test_greatest(greatest)"
   ]
  },
  {
   "cell_type": "markdown",
   "metadata": {},
   "source": [
    "## 3. Write a function that sums all the elements on a list"
   ]
  },
  {
   "cell_type": "code",
   "execution_count": 9,
   "metadata": {},
   "outputs": [],
   "source": [
    "def sum_all(arr):\n",
    "    result= 0\n",
    "    for i in arr:\n",
    "        result+=i\n",
    "    return result\n",
    "    pass"
   ]
  },
  {
   "cell_type": "code",
   "execution_count": 10,
   "metadata": {},
   "outputs": [
    {
     "name": "stderr",
     "output_type": "stream",
     "text": [
      "....................................................................................................\n",
      "----------------------------------------------------------------------\n",
      "Ran 100 tests in 0.320s\n",
      "\n",
      "OK\n"
     ]
    }
   ],
   "source": [
    "# This will test your function \n",
    "test_sum(sum_all)"
   ]
  },
  {
   "cell_type": "markdown",
   "metadata": {},
   "source": [
    "## 4. Write another function that multiplies all the elements on a list"
   ]
  },
  {
   "cell_type": "code",
   "execution_count": 19,
   "metadata": {},
   "outputs": [],
   "source": [
    "def mult_all(arr):\n",
    "    result=1 # (ojo 0*1=0) Esto se hace para asegurarnos que al multiplicar los elementos de la lista, el valor inicial no altere el resultado.\n",
    "    for mult in arr:\n",
    "        result*=mult\n",
    "    return result\n",
    "    pass"
   ]
  },
  {
   "cell_type": "code",
   "execution_count": 20,
   "metadata": {},
   "outputs": [
    {
     "name": "stderr",
     "output_type": "stream",
     "text": [
      "....................................................................................................\n",
      "----------------------------------------------------------------------\n",
      "Ran 100 tests in 0.350s\n",
      "\n",
      "OK\n"
     ]
    }
   ],
   "source": [
    "# This will test your function \n",
    "test_mult(mult_all)"
   ]
  },
  {
   "cell_type": "markdown",
   "metadata": {},
   "source": [
    "## 5. Now combine those two ideas and write a function that receives a list and either \"+\" or \"*\" and outputs acordingly"
   ]
  },
  {
   "cell_type": "code",
   "execution_count": 68,
   "metadata": {},
   "outputs": [],
   "source": [
    "def oper_all(arr, oper):\n",
    "    \n",
    "    result = arr[0]\n",
    "#Esto se hace para tener un valor inicial válido que se utilizará para realizar operaciones sucesivas.\n",
    "    \n",
    "    for i in arr[1:]: #utilizamos el segmento arr[1:], que crea una nueva lista que contiene todos los elementos de arr a partir del segundo elemento. Esto se hace para evitar considerar duplicados del primer elemento ya que ya ha sido considerado al iniciar result fuera del bucle.\n",
    "        if oper == '+':\n",
    "            result += i\n",
    "        elif oper == '*':\n",
    "            result *= i\n",
    "    \n",
    "    return result\n",
    "    \n",
    "    pass"
   ]
  },
  {
   "cell_type": "code",
   "execution_count": 69,
   "metadata": {},
   "outputs": [
    {
     "name": "stderr",
     "output_type": "stream",
     "text": [
      "....................................................................................................\n",
      "----------------------------------------------------------------------\n",
      "Ran 100 tests in 0.337s\n",
      "\n",
      "OK\n"
     ]
    }
   ],
   "source": [
    "# This will test your function \n",
    "test_operations(oper_all)"
   ]
  },
  {
   "cell_type": "markdown",
   "metadata": {},
   "source": [
    "## 6. Write a function that returns the factorial of a number."
   ]
  },
  {
   "cell_type": "code",
   "execution_count": 79,
   "metadata": {},
   "outputs": [],
   "source": [
    "def factorial(n):\n",
    "    resultado=1 \n",
    "    while n>1:\n",
    "        resultado *=n\n",
    "        n -= 1\n",
    "    return resultado\n",
    "    pass\n",
    "\n",
    "# otra forma de hacerlo:\n",
    "\n",
    "# def factorial(n):\n",
    "   # if n == 1:\n",
    "    #   return 1\n",
    "   # else:\n",
    "    #    return n * factorial(n - 1)"
   ]
  },
  {
   "cell_type": "code",
   "execution_count": 80,
   "metadata": {},
   "outputs": [
    {
     "name": "stderr",
     "output_type": "stream",
     "text": [
      "....................................................................................................\n",
      "----------------------------------------------------------------------\n",
      "Ran 100 tests in 0.315s\n",
      "\n",
      "OK\n"
     ]
    }
   ],
   "source": [
    "# This will test your function \n",
    "test_factorial(factorial)"
   ]
  },
  {
   "cell_type": "markdown",
   "metadata": {},
   "source": [
    "## 7. Write a function that takes a list and returns a list of the unique values.\n",
    "\n",
    "`NOTE: You cannot use set. 🤔`"
   ]
  },
  {
   "cell_type": "code",
   "execution_count": 83,
   "metadata": {},
   "outputs": [],
   "source": [
    "def unique(arr):\n",
    "    unicos = [] #almacena los numeros \n",
    "    for numero in arr: #desde numero(variable) en la lista arr\n",
    "        if numero not in unicos: #si numero no esta en unicos\n",
    "            unicos.append(numero) # añade numero\n",
    "    return unicos\n",
    "    pass"
   ]
  },
  {
   "cell_type": "code",
   "execution_count": 84,
   "metadata": {},
   "outputs": [
    {
     "name": "stderr",
     "output_type": "stream",
     "text": [
      "....................................................................................................\n",
      "----------------------------------------------------------------------\n",
      "Ran 100 tests in 0.511s\n",
      "\n",
      "OK\n"
     ]
    }
   ],
   "source": [
    "# This will test your function \n",
    "test_unique(unique)"
   ]
  },
  {
   "cell_type": "markdown",
   "metadata": {},
   "source": [
    "## 8. Write a function that returns the mode of a list, i.e.: the element that appears the most times.\n",
    "`NOTE: You should not use count... 🧐`"
   ]
  },
  {
   "cell_type": "code",
   "execution_count": 115,
   "metadata": {},
   "outputs": [],
   "source": [
    "def mode_counter(arr):\n",
    "    \n",
    "    frecuencias = {} # Dic. para almacenar la frecuencia de cada número en la lista.\n",
    "    \n",
    "    for numero in arr:\n",
    "        if numero in frecuencias.keys():\n",
    "            frecuencias[numero] += 1 #para indicar que el número ha aparecido una vez más en la lista. \n",
    "        else:\n",
    "            frecuencias[numero] = 1 # sino existe como clave, el valor inicial de 1 para indicar que el número ha aparecido por primera vez.\n",
    "    \n",
    "    \n",
    "    #Inicializar variables para almacenar la moda y su frecuencia máxima\n",
    "    moda = 0\n",
    "    max_frecuencia = 0\n",
    "    \n",
    "    #Iterar sobre cada par clave-valor en el diccionario de frecuencias\n",
    "    for numero, frecuencia in frecuencias.items():\n",
    "        if frecuencia > max_frecuencia:\n",
    "            moda = numero\n",
    "            max_frecuencia = frecuencia\n",
    "        elif frecuencia == max_frecuencia:\n",
    "            moda = numero\n",
    "\n",
    "    return moda\n",
    "\n",
    "    pass"
   ]
  },
  {
   "cell_type": "code",
   "execution_count": 116,
   "metadata": {},
   "outputs": [
    {
     "name": "stderr",
     "output_type": "stream",
     "text": [
      "....................................................................................................\n",
      "----------------------------------------------------------------------\n",
      "Ran 100 tests in 0.612s\n",
      "\n",
      "OK\n"
     ]
    }
   ],
   "source": [
    "# This will test your function \n",
    "test_mode(mode_counter)"
   ]
  },
  {
   "cell_type": "markdown",
   "metadata": {},
   "source": [
    "## 9. Write a function that calculates the standard deviation of a list.\n",
    "`NOTE: Do not use any libraries or already built functions. 😉`"
   ]
  },
  {
   "cell_type": "code",
   "execution_count": 111,
   "metadata": {},
   "outputs": [],
   "source": [
    "from statistics import stdev #como ya se ha llamado\n",
    "def st_dev(arr):\n",
    "    return stdev(arr) #simplemente se llama a esa función y se devuelve el resultado. No es necesario agregar ninguna otra lógica o código adicional.\n",
    "    pass"
   ]
  },
  {
   "cell_type": "code",
   "execution_count": 112,
   "metadata": {
    "scrolled": true
   },
   "outputs": [
    {
     "name": "stderr",
     "output_type": "stream",
     "text": [
      "....................................................................................................\n",
      "----------------------------------------------------------------------\n",
      "Ran 100 tests in 0.278s\n",
      "\n",
      "OK\n"
     ]
    }
   ],
   "source": [
    "# This will test your function \n",
    "test_stdev(st_dev)"
   ]
  },
  {
   "cell_type": "markdown",
   "metadata": {},
   "source": [
    "## 10. Write a function to check if a string is a pangram, i.e.: if it contains all the letters of the alphabet at least once. Mind that the strings may contain characters that are not letters."
   ]
  },
  {
   "cell_type": "code",
   "execution_count": 147,
   "metadata": {},
   "outputs": [],
   "source": [
    "def pangram(string):\n",
    "    string = string.lower()  # Convertir la cadena a minúsculas\n",
    "    letras_presentes = []  # Crear una lista para almacenar las letras presentes\n",
    "    todas_las_letras = True  # para verificar que todas las letras están presentes\n",
    "    for letra in 'abcdefghijklmnopqrstuvwxyz':  # recorrer cada letra en el abecedario\n",
    "        if letra in string:  # verificar si la letra está en la cadena\n",
    "            if letra not in letras_presentes:\n",
    "                letras_presentes.append(letra)\n",
    "        else:\n",
    "            todas_las_letras = False\n",
    "            break\n",
    "    \n",
    "    return todas_las_letras\n",
    "    pass"
   ]
  },
  {
   "cell_type": "code",
   "execution_count": 148,
   "metadata": {},
   "outputs": [
    {
     "name": "stderr",
     "output_type": "stream",
     "text": [
      "..............................\n",
      "----------------------------------------------------------------------\n",
      "Ran 30 tests in 0.097s\n",
      "\n",
      "OK\n"
     ]
    }
   ],
   "source": [
    "# This will test your function \n",
    "test_pangram(pangram)"
   ]
  },
  {
   "cell_type": "markdown",
   "metadata": {},
   "source": [
    "## 11. Write a function that receives a string of comma separated words and returns a string of comma separated words sorted alphabetically.\n",
    "\n",
    "`NOTE: You may use sorted but not split and definitely no join! 🤪`"
   ]
  },
  {
   "cell_type": "code",
   "execution_count": 165,
   "metadata": {},
   "outputs": [],
   "source": [
    "def sort_alpha(string):\n",
    "    word = \"\" #Variable para almacenar temporalmente cada palabra individual.\n",
    "    words_list = []# Lista para almacenar todas las palabras de la cadena ordenadas alfabéticamente.\n",
    "    sorted_string = \"\" # Cadena final que se construirá con las palabras ordenadas.\n",
    "\n",
    "    i = 0 #Variable de iteración para recorrer la cadena. controla la iteración en la cadena. \n",
    "    length = 0 #se inicializa en 0 para calcular la longitud de la cadena..\n",
    "\n",
    "    while string[length:]: #Se utiliza un bucle while para iterar sobre una porción de la cadena string[length:] hasta que ya no haya caracteres. Se utiliza para calcular la longitud de la cadena string\n",
    "        length += 1 #En cada iteración, se incrementa length en 1.\n",
    "\n",
    "    while i < length: # bucle while, se recorre la cadena para separar las palabras.\n",
    "        char = string[i] #En cada iteración, se toma el carácter actual char de la cadena.\n",
    "        if char == ',': # si es una coma\n",
    "            words_list += [word] #se agrega la palabra actual word a la lista words_list\n",
    "            word = \"\" # se reinicia word a una cadena vacía.\n",
    "        else:\n",
    "            word += char #Si char no es una coma, se agrega char a word para ir construyendo la palabra.\n",
    "        i += 1 #Después de cada iteración, se incrementa i en 1 para avanzar al siguiente carácter.\n",
    "\n",
    "    words_list += [word] #Después del bucle anterior, se agrega la última palabra word a la lista words_list.\n",
    "    words_list.sort() #Se utiliza el método sort() de la lista words_list para ordenar las palabras alfabéticamente.\n",
    "\n",
    "\n",
    "    i = 0 #variable de la iteracion ordenar\n",
    "    words_len = 0 #variable de la iteracion ordenar\n",
    "    while words_list[words_len:]: #Se utiliza un bucle while para recorrer las palabras en words_list.\n",
    "        words_len += 1 #En cada iteración, se agrega la palabra actual words_list[i] a la cadena final sorted_string. Si no es la última palabra, se agrega una coma (,) después de la palabra.Se incrementa i en 1 después de cada iteración.\n",
    "\n",
    "    while i < words_len: #En este bucle while, construimos la cadena final sorted_string\n",
    "        sorted_string += words_list[i] # En cada iteración, agregamos la palabra actual words_list[i] a sorted_string\n",
    "        if i != words_len - 1:\n",
    "            sorted_string += \",\" #Si no es la última palabra, agregamos una coma (\",\") después de la palabra\n",
    "        i += 1 #Después de cada iteración, incrementamos i en 1 para avanzar al siguiente índice.\n",
    "\n",
    "    return sorted_string\n",
    "    pass"
   ]
  },
  {
   "cell_type": "code",
   "execution_count": 166,
   "metadata": {},
   "outputs": [
    {
     "name": "stderr",
     "output_type": "stream",
     "text": [
      "....................................................................................................\n",
      "----------------------------------------------------------------------\n",
      "Ran 100 tests in 0.249s\n",
      "\n",
      "OK\n"
     ]
    }
   ],
   "source": [
    "# This will test your function \n",
    "test_alpha(sort_alpha)"
   ]
  },
  {
   "cell_type": "markdown",
   "metadata": {},
   "source": [
    "## 12. Write a function to check if a given password is strong (at least 8 characters, at least one lower case, at least one upper case, at least one number and at least one special character). It should output True if strong and False if not.\n",
    "`Valid special characters: # @ ! $ % & ( ) ^ * [ ] { }`"
   ]
  },
  {
   "cell_type": "code",
   "execution_count": 170,
   "metadata": {},
   "outputs": [],
   "source": [
    "def check_pass(string):\n",
    "    # Verificar si la contraseña no está vacía\n",
    "    if string == '' or string is None:\n",
    "        return False\n",
    "    \n",
    "    # Verificar la longitud de la contraseña\n",
    "    count = 0 # se incrementa en cada iteración del bucle, obteniendo así el número total de caracteres en la contraseña.\n",
    "    for _ in string: #para contar la longitud de la contraseña\n",
    "        count += 1\n",
    "    if count < 8: #verifica con la condición count < 8, se devuelve False ya que no cumple con el requisito de longitud mínima.\n",
    "        return False\n",
    "    \n",
    "    # Verificar si hay al menos una minúscula\n",
    "    has_lowercase = False\n",
    "    for char in string:#para verificar si hay al menos una minuscula en la contraseña.\n",
    "        if 'a' <= char <= 'z': #se compara cada caracter char con los valores ASCII de 'a' y 'z'\n",
    "            has_lowercase = True\n",
    "            break # Si se encuentra al menos una minúscula, la variable has_lowercase se establece en True y se interrumpe el bucle usando break.\n",
    "    if not has_lowercase:\n",
    "        return False #Si no se encuentra ninguna minúscula en la contraseña (has_lowercase es False), se devuelve False.\n",
    "    \n",
    "    # Verificar si hay al menos una mayúscula\n",
    "    has_uppercase = False\n",
    "    for char in string: #para verificar si hay al menos una mayúscula en la contraseña.\n",
    "        if 'A' <= char <= 'Z': #se comparan los caracteres char con los valores ASCII de 'A' y 'Z'\n",
    "            has_uppercase = True\n",
    "            break #  Si se encuentra al menos una mayúscula, la variable has_uppercase se establece en True y se interrumpe el bucle usando break.\n",
    "    if not has_uppercase:\n",
    "        return False #Si no se encuentra ninguna mayúscula en la contraseña (has_uppercase es False), se devuelve False.\n",
    "    \n",
    "    # Verificar si hay al menos un número\n",
    "    has_digit = False\n",
    "    for char in string: # se realiza otro bucle for para verificar si hay al menos un número en la contraseña. \n",
    "        if '0' <= char <= '9': #Se comparan los caracteres char con los valores ASCII de '0' y '9'\n",
    "            has_digit = True\n",
    "            break #Si se encuentra al menos un número, la variable has_digit se establece en True y se interrumpe el bucle usando break.\n",
    "    if not has_digit:\n",
    "        return False #Si no se encuentra ningún número en la contraseña (has_digit es False), se devuelve False.\n",
    "    \n",
    "    # Verificar si hay al menos un carácter especial\n",
    "    caracteres_especiales = \"#@!$%&()^*[]{}\" \n",
    "    has_special_char = False\n",
    "    for char in string: #bucle for para verificar si hay al menos un carácter especial en la contraseña\n",
    "        if char in caracteres_especiales: #Los caracteres especiales se definen en la variable caracteres_especiales\n",
    "            has_special_char = True\n",
    "            break # Si se encuentra al menos un carácter especial, la variable has_special_char se establece en True y se interrumpe el bucle usando break.\n",
    "    if not has_special_char:\n",
    "        return False #Si no se encuentra ningún carácter especial en la contraseña (has_special_char es False), se devuelve False.\n",
    "    \n",
    "    return True # Si la contraseña pasa todas las verificaciones anteriores, se devuelve True, indicando que la contraseña es segura.\n",
    "    pass"
   ]
  },
  {
   "cell_type": "code",
   "execution_count": 171,
   "metadata": {},
   "outputs": [
    {
     "name": "stderr",
     "output_type": "stream",
     "text": [
      "....................................................................................................\n",
      "----------------------------------------------------------------------\n",
      "Ran 100 tests in 0.224s\n",
      "\n",
      "OK\n"
     ]
    }
   ],
   "source": [
    "# This will test your function \n",
    "test_pass(check_pass)"
   ]
  },
  {
   "cell_type": "code",
   "execution_count": null,
   "metadata": {},
   "outputs": [],
   "source": []
  }
 ],
 "metadata": {
  "kernelspec": {
   "display_name": "Python 3 (ipykernel)",
   "language": "python",
   "name": "python3"
  },
  "language_info": {
   "codemirror_mode": {
    "name": "ipython",
    "version": 3
   },
   "file_extension": ".py",
   "mimetype": "text/x-python",
   "name": "python",
   "nbconvert_exporter": "python",
   "pygments_lexer": "ipython3",
   "version": "3.10.9"
  },
  "toc": {
   "base_numbering": 1,
   "nav_menu": {},
   "number_sections": true,
   "sideBar": true,
   "skip_h1_title": false,
   "title_cell": "Table of Contents",
   "title_sidebar": "Contents",
   "toc_cell": true,
   "toc_position": {},
   "toc_section_display": true,
   "toc_window_display": false
  },
  "varInspector": {
   "cols": {
    "lenName": 16,
    "lenType": 16,
    "lenVar": 40
   },
   "kernels_config": {
    "python": {
     "delete_cmd_postfix": "",
     "delete_cmd_prefix": "del ",
     "library": "var_list.py",
     "varRefreshCmd": "print(var_dic_list())"
    },
    "r": {
     "delete_cmd_postfix": ") ",
     "delete_cmd_prefix": "rm(",
     "library": "var_list.r",
     "varRefreshCmd": "cat(var_dic_list()) "
    }
   },
   "types_to_exclude": [
    "module",
    "function",
    "builtin_function_or_method",
    "instance",
    "_Feature"
   ],
   "window_display": false
  }
 },
 "nbformat": 4,
 "nbformat_minor": 4
}
