{
 "cells": [
  {
   "cell_type": "code",
   "execution_count": 37,
   "id": "8ed3f9c5",
   "metadata": {},
   "outputs": [],
   "source": [
    "def unique(arr):\n",
    "    res=[]\n",
    "    for i in arr:\n",
    "        if i not in res:\n",
    "            res.append(i)\n",
    "    return res\n",
    "\n",
    "def mode_counter(arr):\n",
    "    uel=unique(arr)\n",
    "    dic={}\n",
    "    for i in uel:\n",
    "        ci=0\n",
    "        for j in arr:\n",
    "            if i==j: ci+=1\n",
    "        dic[i]=ci\n",
    "    \n",
    "    count=0\n",
    "    res=[]\n",
    "    \n",
    "    for k,val in dic.items():\n",
    "        if val>count: \n",
    "            res.append(k)\n",
    "            count=val    \n",
    "    return res[0]\n",
    "        "
   ]
  },
  {
   "cell_type": "code",
   "execution_count": 38,
   "id": "4eeb3287",
   "metadata": {},
   "outputs": [
    {
     "data": {
      "text/plain": [
       "1"
      ]
     },
     "execution_count": 38,
     "metadata": {},
     "output_type": "execute_result"
    }
   ],
   "source": [
    "mode_counter([1,1,1,3,4,5,5,5,2,2,3])"
   ]
  },
  {
   "cell_type": "code",
   "execution_count": 18,
   "id": "177fa816",
   "metadata": {},
   "outputs": [
    {
     "data": {
      "text/plain": [
       "1"
      ]
     },
     "execution_count": 18,
     "metadata": {},
     "output_type": "execute_result"
    }
   ],
   "source": [
    "import statistics as stats\n",
    "stats.mode([1,1,3,4,5,2,2,3])"
   ]
  },
  {
   "cell_type": "code",
   "execution_count": 39,
   "id": "f7d4178b",
   "metadata": {},
   "outputs": [],
   "source": [
    "abc='dshjkfds'"
   ]
  },
  {
   "cell_type": "code",
   "execution_count": 40,
   "id": "5dee4d70",
   "metadata": {},
   "outputs": [
    {
     "data": {
      "text/plain": [
       "'d'"
      ]
     },
     "execution_count": 40,
     "metadata": {},
     "output_type": "execute_result"
    }
   ],
   "source": [
    "abc[0]"
   ]
  },
  {
   "cell_type": "code",
   "execution_count": 41,
   "id": "b92053d1",
   "metadata": {},
   "outputs": [
    {
     "data": {
      "text/plain": [
       "8"
      ]
     },
     "execution_count": 41,
     "metadata": {},
     "output_type": "execute_result"
    }
   ],
   "source": [
    "len(abc)"
   ]
  },
  {
   "cell_type": "code",
   "execution_count": 42,
   "id": "b91bc092",
   "metadata": {},
   "outputs": [
    {
     "name": "stdout",
     "output_type": "stream",
     "text": [
      "d\n",
      "s\n",
      "h\n",
      "j\n",
      "k\n",
      "f\n",
      "d\n",
      "s\n"
     ]
    }
   ],
   "source": [
    "for i in abc:\n",
    "    print(i)"
   ]
  },
  {
   "cell_type": "code",
   "execution_count": 54,
   "id": "00c5bfff",
   "metadata": {},
   "outputs": [],
   "source": [
    "def pangram(string):\n",
    "    abc='abcdefghijklmnopqrstuvwxyz'\n",
    "    res=True\n",
    "    \n",
    "    for i in abc:\n",
    "        ci=0\n",
    "        for j in string:\n",
    "            if i==j or i.capitalize()==j:\n",
    "                ci+=1\n",
    "        if ci==0:\n",
    "            res = False\n",
    "        else:\n",
    "            continue\n",
    "            \n",
    "    return res"
   ]
  },
  {
   "cell_type": "code",
   "execution_count": 55,
   "id": "0045d1ca",
   "metadata": {},
   "outputs": [
    {
     "data": {
      "text/plain": [
       "True"
      ]
     },
     "execution_count": 55,
     "metadata": {},
     "output_type": "execute_result"
    }
   ],
   "source": [
    "pangram('abcdefghijklmnoPqrstuvwxyz')"
   ]
  },
  {
   "cell_type": "code",
   "execution_count": 56,
   "id": "c4d64d8b",
   "metadata": {},
   "outputs": [],
   "source": [
    "a='jdf,dsjhkvb,fdjnvd'"
   ]
  },
  {
   "cell_type": "code",
   "execution_count": 57,
   "id": "f5b4142e",
   "metadata": {},
   "outputs": [
    {
     "ename": "AttributeError",
     "evalue": "'str' object has no attribute 'append'",
     "output_type": "error",
     "traceback": [
      "\u001b[0;31m---------------------------------------------------------------------------\u001b[0m",
      "\u001b[0;31mAttributeError\u001b[0m                            Traceback (most recent call last)",
      "Cell \u001b[0;32mIn[57], line 1\u001b[0m\n\u001b[0;32m----> 1\u001b[0m \u001b[43ma\u001b[49m\u001b[38;5;241;43m.\u001b[39;49m\u001b[43mappend\u001b[49m(\u001b[38;5;124m'\u001b[39m\u001b[38;5;124mh\u001b[39m\u001b[38;5;124m'\u001b[39m)\n",
      "\u001b[0;31mAttributeError\u001b[0m: 'str' object has no attribute 'append'"
     ]
    }
   ],
   "source": [
    "a.append('h')"
   ]
  },
  {
   "cell_type": "code",
   "execution_count": 58,
   "id": "a2a98c5d",
   "metadata": {},
   "outputs": [],
   "source": [
    "a+='h'"
   ]
  },
  {
   "cell_type": "code",
   "execution_count": 59,
   "id": "688aa1e6",
   "metadata": {},
   "outputs": [
    {
     "data": {
      "text/plain": [
       "'jdf,dsjhkvb,fdjnvdh'"
      ]
     },
     "execution_count": 59,
     "metadata": {},
     "output_type": "execute_result"
    }
   ],
   "source": [
    "a"
   ]
  },
  {
   "cell_type": "code",
   "execution_count": 61,
   "id": "96e8926e",
   "metadata": {},
   "outputs": [],
   "source": [
    "def sort_alpha(string):\n",
    "    dic={}\n",
    "    a=[]\n",
    "    b=''\n",
    "    for i in string:\n",
    "        if i!=',':\n",
    "            b+=i\n",
    "        else:\n",
    "            a.append(b)\n",
    "            b=''\n",
    "    return a"
   ]
  },
  {
   "cell_type": "code",
   "execution_count": null,
   "id": "ae223403",
   "metadata": {},
   "outputs": [],
   "source": []
  }
 ],
 "metadata": {
  "kernelspec": {
   "display_name": "Python 3 (ipykernel)",
   "language": "python",
   "name": "python3"
  },
  "language_info": {
   "codemirror_mode": {
    "name": "ipython",
    "version": 3
   },
   "file_extension": ".py",
   "mimetype": "text/x-python",
   "name": "python",
   "nbconvert_exporter": "python",
   "pygments_lexer": "ipython3",
   "version": "3.10.9"
  }
 },
 "nbformat": 4,
 "nbformat_minor": 5
}
