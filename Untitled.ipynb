{
 "cells": [
  {
   "cell_type": "code",
   "execution_count": 2,
   "id": "0476e06d",
   "metadata": {},
   "outputs": [],
   "source": [
    "def find_mode(lst):\n",
    "    frequency_dict = {}\n",
    "   \n",
    "    for x in lst:\n",
    "        if x not in frequency_dict:\n",
    "            frequency_dict[x] = 1\n",
    "        else:\n",
    "            frequency_dict[x] += 1\n",
    "   \n",
    "    max_frequency = 0\n",
    "    for value in frequency_dict.values():\n",
    "        if value > max_frequency:\n",
    "            max_frequency = value\n",
    "   \n",
    "    modes = []\n",
    "    for key, value in frequency_dict.items():\n",
    "        if value == max_frequency:\n",
    "            modes.append(key)\n",
    "   \n",
    "    return modes"
   ]
  },
  {
   "cell_type": "code",
   "execution_count": 6,
   "id": "261a1336",
   "metadata": {},
   "outputs": [],
   "source": [
    "def calculate_average(list):\n",
    "    total = sum(list)\n",
    "    average = sum(list)/len(list)\n",
    "    return print(average)"
   ]
  },
  {
   "cell_type": "code",
   "execution_count": 8,
   "id": "dbb3dd98",
   "metadata": {},
   "outputs": [
    {
     "name": "stdout",
     "output_type": "stream",
     "text": [
      "3.25\n"
     ]
    }
   ],
   "source": [
    "calculate_average([3,5,3,2])"
   ]
  },
  {
   "cell_type": "code",
   "execution_count": null,
   "id": "93a4458d",
   "metadata": {},
   "outputs": [],
   "source": []
  }
 ],
 "metadata": {
  "kernelspec": {
   "display_name": "Python 3 (ipykernel)",
   "language": "python",
   "name": "python3"
  },
  "language_info": {
   "codemirror_mode": {
    "name": "ipython",
    "version": 3
   },
   "file_extension": ".py",
   "mimetype": "text/x-python",
   "name": "python",
   "nbconvert_exporter": "python",
   "pygments_lexer": "ipython3",
   "version": "3.10.9"
  }
 },
 "nbformat": 4,
 "nbformat_minor": 5
}
