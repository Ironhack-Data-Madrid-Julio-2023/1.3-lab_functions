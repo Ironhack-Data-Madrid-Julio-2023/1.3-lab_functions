{
 "cells": [
  {
   "cell_type": "code",
   "execution_count": 37,
   "id": "cf34ba21",
   "metadata": {},
   "outputs": [],
   "source": [
    "def unique(arr):\n",
    "    res=[]\n",
    "    for i in arr:\n",
    "        if i not in res:\n",
    "            res.append(i)\n",
    "    return res\n",
    "\n",
    "def mode_counter(arr):\n",
    "    uel=unique(arr)\n",
    "    dic={}\n",
    "    for i in uel:\n",
    "        ci=0\n",
    "        for j in arr:\n",
    "            if i==j: ci+=1\n",
    "        dic[i]=ci\n",
    "    \n",
    "    count=0\n",
    "    res=[]\n",
    "    \n",
    "    for k,val in dic.items():\n",
    "        if val>count: \n",
    "            res.append(k)\n",
    "            count=val    \n",
    "    return res[0]\n",
    "        "
   ]
  },
  {
   "cell_type": "code",
   "execution_count": 38,
   "id": "a174d86c",
   "metadata": {},
   "outputs": [
    {
     "data": {
      "text/plain": [
       "1"
      ]
     },
     "execution_count": 38,
     "metadata": {},
     "output_type": "execute_result"
    }
   ],
   "source": [
    "mode_counter([1,1,1,3,4,5,5,5,2,2,3])"
   ]
  },
  {
   "cell_type": "code",
   "execution_count": 18,
   "id": "eb59a9cb",
   "metadata": {},
   "outputs": [
    {
     "data": {
      "text/plain": [
       "1"
      ]
     },
     "execution_count": 18,
     "metadata": {},
     "output_type": "execute_result"
    }
   ],
   "source": [
    "import statistics as stats\n",
    "stats.mode([1,1,3,4,5,2,2,3])"
   ]
  },
  {
   "cell_type": "code",
   "execution_count": 39,
   "id": "9abb8117",
   "metadata": {},
   "outputs": [],
   "source": [
    "abc='dshjkfds'"
   ]
  },
  {
   "cell_type": "code",
   "execution_count": 40,
   "id": "e9d54d1b",
   "metadata": {},
   "outputs": [
    {
     "data": {
      "text/plain": [
       "'d'"
      ]
     },
     "execution_count": 40,
     "metadata": {},
     "output_type": "execute_result"
    }
   ],
   "source": [
    "abc[0]"
   ]
  },
  {
   "cell_type": "code",
   "execution_count": 41,
   "id": "74618d07",
   "metadata": {},
   "outputs": [
    {
     "data": {
      "text/plain": [
       "8"
      ]
     },
     "execution_count": 41,
     "metadata": {},
     "output_type": "execute_result"
    }
   ],
   "source": [
    "len(abc)"
   ]
  },
  {
   "cell_type": "code",
   "execution_count": 42,
   "id": "90b7b1cc",
   "metadata": {},
   "outputs": [
    {
     "name": "stdout",
     "output_type": "stream",
     "text": [
      "d\n",
      "s\n",
      "h\n",
      "j\n",
      "k\n",
      "f\n",
      "d\n",
      "s\n"
     ]
    }
   ],
   "source": [
    "for i in abc:\n",
    "    print(i)"
   ]
  },
  {
   "cell_type": "code",
   "execution_count": 54,
   "id": "f539244c",
   "metadata": {},
   "outputs": [],
   "source": [
    "def pangram(string):\n",
    "    abc='abcdefghijklmnopqrstuvwxyz'\n",
    "    res=True\n",
    "    \n",
    "    for i in abc:\n",
    "        ci=0\n",
    "        for j in string:\n",
    "            if i==j or i.capitalize()==j:\n",
    "                ci+=1\n",
    "        if ci==0:\n",
    "            res = False\n",
    "        else:\n",
    "            continue\n",
    "            \n",
    "    return res"
   ]
  },
  {
   "cell_type": "code",
   "execution_count": 55,
   "id": "6d21660d",
   "metadata": {},
   "outputs": [
    {
     "data": {
      "text/plain": [
       "True"
      ]
     },
     "execution_count": 55,
     "metadata": {},
     "output_type": "execute_result"
    }
   ],
   "source": [
    "pangram('abcdefghijklmnoPqrstuvwxyz')"
   ]
  },
  {
   "cell_type": "code",
   "execution_count": 56,
   "id": "027a5d55",
   "metadata": {},
   "outputs": [],
   "source": [
    "a='jdf,dsjhkvb,fdjnvd'"
   ]
  },
  {
   "cell_type": "code",
   "execution_count": 57,
   "id": "37ce91b6",
   "metadata": {},
   "outputs": [
    {
     "ename": "AttributeError",
     "evalue": "'str' object has no attribute 'append'",
     "output_type": "error",
     "traceback": [
      "\u001b[0;31m---------------------------------------------------------------------------\u001b[0m",
      "\u001b[0;31mAttributeError\u001b[0m                            Traceback (most recent call last)",
      "Cell \u001b[0;32mIn[57], line 1\u001b[0m\n\u001b[0;32m----> 1\u001b[0m \u001b[43ma\u001b[49m\u001b[38;5;241;43m.\u001b[39;49m\u001b[43mappend\u001b[49m(\u001b[38;5;124m'\u001b[39m\u001b[38;5;124mh\u001b[39m\u001b[38;5;124m'\u001b[39m)\n",
      "\u001b[0;31mAttributeError\u001b[0m: 'str' object has no attribute 'append'"
     ]
    }
   ],
   "source": [
    "a.append('h')"
   ]
  },
  {
   "cell_type": "code",
   "execution_count": 58,
   "id": "6eed2e1b",
   "metadata": {},
   "outputs": [],
   "source": [
    "a+='h'"
   ]
  },
  {
   "cell_type": "code",
   "execution_count": 59,
   "id": "b2ee8ae4",
   "metadata": {},
   "outputs": [
    {
     "data": {
      "text/plain": [
       "'jdf,dsjhkvb,fdjnvdh'"
      ]
     },
     "execution_count": 59,
     "metadata": {},
     "output_type": "execute_result"
    }
   ],
   "source": [
    "a"
   ]
  },
  {
   "cell_type": "code",
   "execution_count": 129,
   "id": "99c78fd6",
   "metadata": {},
   "outputs": [
    {
     "name": "stdout",
     "output_type": "stream",
     "text": [
      "['a', 'brav', 'cmxkvncd', 'dfkjsfndsk', 'dikndosklcb', 'dnkjsnckdsj', 'fdjhkbvkjdsnf', 'i', 'patata', 'pica nte', 'xkjncdk']\n"
     ]
    },
    {
     "data": {
      "text/plain": [
       "'a,brav,cmxkvncd,dfkjsfndsk,dikndosklcb,dnkjsnckdsj,fdjhkbvkjdsnf,i,patata,pica nte,xkjncdk'"
      ]
     },
     "execution_count": 129,
     "metadata": {},
     "output_type": "execute_result"
    }
   ],
   "source": [
    "def sort_alpha(string):\n",
    "\n",
    "    # Uso un for para averiguar el número de elementos, porque en teoría no podemos usar len()\n",
    "    l=0\n",
    "    for i in string: l+=1\n",
    "        \n",
    "    A=[]\n",
    "    b=''\n",
    "    index=1\n",
    "    \n",
    "    for i in string:\n",
    "        if index == l and i!=',':\n",
    "            b+=i\n",
    "            A.append(b)\n",
    "        elif index != l and i!=',':\n",
    "            b+=i\n",
    "        else:\n",
    "            A.append(b)\n",
    "            b=''\n",
    "        index+=1\n",
    "    A.sort()\n",
    "    res=''\n",
    "    \n",
    "    l=0\n",
    "    for i in A: l+=1\n",
    "    index=1\n",
    "    print(A)\n",
    "    \n",
    "    for i in A:\n",
    "        if index !=l:\n",
    "            res+=i+','\n",
    "        else:\n",
    "            res+=i\n",
    "        index+=1\n",
    "    \n",
    "    return res\n",
    "\n",
    "sort_alpha('patata,brav,a,dikndosklcb,xkjncdk,i,pica nte,dfkjsfndsk,fdjhkbvkjdsnf,dnkjsnckdsj,cmxkvncd')"
   ]
  },
  {
   "cell_type": "code",
   "execution_count": 125,
   "id": "f60c09cb",
   "metadata": {},
   "outputs": [],
   "source": [
    "a='jfhdbsvkdfs'"
   ]
  },
  {
   "cell_type": "code",
   "execution_count": 126,
   "id": "dc5a31e3",
   "metadata": {},
   "outputs": [
    {
     "name": "stdout",
     "output_type": "stream",
     "text": [
      "hey\n",
      "hey\n"
     ]
    }
   ],
   "source": [
    "for i in a:\n",
    "    if i is a[-1]:\n",
    "        print('hey')"
   ]
  },
  {
   "cell_type": "code",
   "execution_count": null,
   "id": "499bc2ac",
   "metadata": {},
   "outputs": [],
   "source": []
  }
 ],
 "metadata": {
  "kernelspec": {
   "display_name": "Python 3 (ipykernel)",
   "language": "python",
   "name": "python3"
  },
  "language_info": {
   "codemirror_mode": {
    "name": "ipython",
    "version": 3
   },
   "file_extension": ".py",
   "mimetype": "text/x-python",
   "name": "python",
   "nbconvert_exporter": "python",
   "pygments_lexer": "ipython3",
   "version": "3.10.9"
  }
 },
 "nbformat": 4,
 "nbformat_minor": 5
}
