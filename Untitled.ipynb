{
 "cells": [
  {
   "cell_type": "code",
   "execution_count": 8,
   "id": "a4793d38",
   "metadata": {},
   "outputs": [
    {
     "name": "stdout",
     "output_type": "stream",
     "text": [
      "7\n"
     ]
    }
   ],
   "source": [
    "arr=[1,2,3,4,2,1,3,3,3,3,3,3,3,3,5,4,6,7,8,9,7,8,6,3]\n",
    "\n",
    "counter_x=0\n",
    "counter_y=0\n",
    "for n in arr:\n",
    "    for i in arr:\n",
    "        if i==n:\n",
    "            counter_x+=1\n",
    "            \n",
    "        else:\n",
    "            continue\n",
    "    if counter_x > counter_y:\n",
    "        counter_y=counter_x\n",
    "        y=n\n",
    "        counter_x=0\n",
    "    else:\n",
    "        continue\n",
    "   \n",
    "        \n",
    "        \n",
    "print(y)"
   ]
  },
  {
   "cell_type": "code",
   "execution_count": null,
   "id": "7c5dbd6b",
   "metadata": {},
   "outputs": [],
   "source": [
    "arr=[1,2,3,4,2,1,3,3,3,3,3,3,3,3,5,4,6,7,8,9,7,8,6,3]\n",
    "\n"
   ]
  },
  {
   "cell_type": "code",
   "execution_count": 9,
   "id": "79068bcf",
   "metadata": {},
   "outputs": [
    {
     "name": "stdout",
     "output_type": "stream",
     "text": [
      "3\n"
     ]
    }
   ],
   "source": [
    "arr = [1, 2, 3, 4, 2, 1, 3, 3, 3, 3, 3, 3, 3, 3, 5, 4, 6, 7, 8, 9, 7, 8, 6, 3]\n",
    "\n",
    "frequency = {}\n",
    "max_frequency = 0\n",
    "most_frequent_element = None\n",
    "\n",
    "for n in arr:\n",
    "    if n in frequency:\n",
    "        frequency[n] += 1\n",
    "    else:\n",
    "        frequency[n] = 1\n",
    "    \n",
    "    if frequency[n] > max_frequency:\n",
    "        max_frequency = frequency[n]\n",
    "        most_frequent_element = n\n",
    "\n",
    "print(most_frequent_element)"
   ]
  },
  {
   "cell_type": "code",
   "execution_count": null,
   "id": "48db46f7",
   "metadata": {},
   "outputs": [],
   "source": [
    "avg=0\n",
    "sumatorio=0\n",
    "sumatorio_2=0\n",
    "dev=0\n",
    "counter=0\n",
    "for i in arr:\n",
    "    sumatorio=+i\n",
    "    counter=+1\n",
    "        \n",
    "avg=sumatorio/counter\n",
    "        \n",
    "for x in arr:\n",
    "    sumatorio_2+=((i-avg)**2)\n",
    "print (counter)\n",
    "dev=((sumatorio_2/(counter-1))**(1/2))"
   ]
  },
  {
   "cell_type": "code",
   "execution_count": null,
   "id": "b727c95f",
   "metadata": {},
   "outputs": [],
   "source": [
    "def st_dev(arr):\n",
    "    n = 0\n",
    "    avg = 0\n",
    "    sumatorio_diff = 0\n",
    "    sumatorio_squared_diff = 0\n",
    "    for i in arr:\n",
    "        n += 1\n",
    "        avg += i\n",
    "    \n",
    "    avg /= n\n",
    "    \n",
    "    for i in arr:\n",
    "        diff = i - avg\n",
    "        sumatorio_diff += diff\n",
    "        sumatorio_squared_diff += diff * diff\n",
    "    \n",
    "    dev = (sumatorio_squared_diff / (n - 1)) ** 0.5\n",
    "    return dev"
   ]
  },
  {
   "cell_type": "code",
   "execution_count": 17,
   "id": "c1ce4924",
   "metadata": {},
   "outputs": [
    {
     "name": "stdout",
     "output_type": "stream",
     "text": [
      "input a stringhola,como,estas\n",
      "hola,\n",
      "como,\n",
      "hola,como,\n"
     ]
    }
   ],
   "source": [
    "frase = input('input a string')\n",
    "string_x=''\n",
    "lst=[]\n",
    "out=''\n",
    "for i in frase:\n",
    "    if i !=',':\n",
    "        string_x+=i\n",
    "    elif i ==',':\n",
    "        string_x+=i\n",
    "        print(string_x)\n",
    "        lst+=[string_x]\n",
    "        string_x=''\n",
    "for i in lst:\n",
    "    out+=i\n",
    "    \n",
    "print(out)\n",
    "        \n",
    "\n",
    "\n",
    "\n",
    "\n",
    "\n",
    "\n",
    "\n",
    "\n",
    "\n"
   ]
  },
  {
   "cell_type": "code",
   "execution_count": null,
   "id": "d18eda10",
   "metadata": {},
   "outputs": [],
   "source": [
    "frase = input('Enter a string: ')\n",
    "string_x = ''\n",
    "lst = []\n",
    "out = ''\n",
    "\n",
    "for i in frase:\n",
    "    if i != ',':\n",
    "        string_x += i\n",
    "    else:\n",
    "        if string_x != '':\n",
    "            lst.append(string_x)\n",
    "        string_x = ''\n",
    "        \n",
    "if string_x != '':\n",
    "    lst.append(string_x)\n",
    "\n",
    "for i in lst:\n",
    "    out += i\n",
    "\n",
    "print(out)"
   ]
  },
  {
   "cell_type": "code",
   "execution_count": 20,
   "id": "40c26aa2",
   "metadata": {},
   "outputs": [],
   "source": [
    "string='aijzmbqh,bgupae,cdcdxwj,elaha,gbxontuiwc,haiat,hgpals,hqcmoysej,hyokjyoehj,krfxgm,ktikmkc,kziitvfe,lfkpkfwu,migtxrz,mvvxte,oyxv,qaug,tospgd,xfyzvon,zgpxn'\n",
    "\n",
    "\n",
    "word=''\n",
    "list_1=[]\n",
    "out=''\n",
    "    \n",
    "    #aqui se añaden todas las palabras a la lista\n",
    "    \n",
    "for i in string:\n",
    "    if i == ',':\n",
    "        word+=''\n",
    "        list_1+=[word]\n",
    "        word=''\n",
    "    else:\n",
    "        word+=i\n",
    "    \n",
    "list_1+=[word]\n",
    "    #Ordenar Alfabeticamente\n",
    "    \n",
    "list_1=sorted(list_1)\n",
    "    \n",
    "    #Desglose a nueva string\n",
    "    \n",
    "for i in list_1:\n",
    "    if i != 0:\n",
    "        out+=','\n",
    "    out+=i\n",
    "    \n",
    "    \n"
   ]
  },
  {
   "cell_type": "code",
   "execution_count": null,
   "id": "5026d89b",
   "metadata": {},
   "outputs": [],
   "source": []
  }
 ],
 "metadata": {
  "kernelspec": {
   "display_name": "Python 3 (ipykernel)",
   "language": "python",
   "name": "python3"
  },
  "language_info": {
   "codemirror_mode": {
    "name": "ipython",
    "version": 3
   },
   "file_extension": ".py",
   "mimetype": "text/x-python",
   "name": "python",
   "nbconvert_exporter": "python",
   "pygments_lexer": "ipython3",
   "version": "3.10.9"
  }
 },
 "nbformat": 4,
 "nbformat_minor": 5
}
