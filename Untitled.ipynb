{
 "cells": [
  {
   "cell_type": "code",
   "execution_count": 11,
   "id": "97f74a10",
   "metadata": {},
   "outputs": [
    {
     "name": "stdout",
     "output_type": "stream",
     "text": [
      "['', '']\n"
     ]
    }
   ],
   "source": [
    "    sort_alpha = ('hola,adios,coma')\n",
    "    words = []\n",
    "    word = \"\"\n",
    "    \n",
    "    for i in sort_alpha:\n",
    "        if i != \",\":\n",
    "            palabra += i\n",
    "        else:\n",
    "            words.append(word)\n",
    "            word = \"\"\n",
    "            \n",
    "    words_ordenada = sorted(words)\n",
    "\n",
    "    print(words_ordenada)"
   ]
  },
  {
   "cell_type": "code",
   "execution_count": 12,
   "id": "0baec9b3",
   "metadata": {},
   "outputs": [],
   "source": [
    "def sort_alpha(string):\n",
    "    words = []\n",
    "    word = \"\"\n",
    "    \n",
    "    for char in string:\n",
    "        if char == \",\":\n",
    "            if word:\n",
    "                words.append(word)\n",
    "                word = \"\"\n",
    "        else:\n",
    "            word += char\n",
    "    \n",
    "    if word:\n",
    "        words.append(word)\n",
    "    \n",
    "    sorted_words = sorted(words)\n",
    "    \n",
    "    sorted_string = \"\"\n",
    "    for index, word in enumerate(sorted_words):\n",
    "        sorted_string += word\n",
    "        if index != len(sorted_words) - 1:\n",
    "            sorted_string += \",\"\n",
    "    \n",
    "    return sorted_string\n",
    "\n"
   ]
  },
  {
   "cell_type": "code",
   "execution_count": null,
   "id": "d40f8e35",
   "metadata": {},
   "outputs": [],
   "source": []
  }
 ],
 "metadata": {
  "kernelspec": {
   "display_name": "Python 3 (ipykernel)",
   "language": "python",
   "name": "python3"
  },
  "language_info": {
   "codemirror_mode": {
    "name": "ipython",
    "version": 3
   },
   "file_extension": ".py",
   "mimetype": "text/x-python",
   "name": "python",
   "nbconvert_exporter": "python",
   "pygments_lexer": "ipython3",
   "version": "3.10.9"
  }
 },
 "nbformat": 4,
 "nbformat_minor": 5
}
