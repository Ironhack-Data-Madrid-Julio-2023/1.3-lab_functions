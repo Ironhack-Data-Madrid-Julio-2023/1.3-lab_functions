{
 "cells": [
  {
   "cell_type": "code",
   "execution_count": 1,
   "id": "c8b8f213",
   "metadata": {},
   "outputs": [],
   "source": [
    "def greatest(arr):\n",
    "    result = 0\n",
    "\n",
    "    for i in arr:\n",
    "        \n",
    "        if i >= result: result = i\n",
    "\n",
    "    return result"
   ]
  },
  {
   "cell_type": "code",
   "execution_count": 2,
   "id": "d34aa181",
   "metadata": {},
   "outputs": [
    {
     "data": {
      "text/plain": [
       "5"
      ]
     },
     "execution_count": 2,
     "metadata": {},
     "output_type": "execute_result"
    }
   ],
   "source": [
    "resultado1 = greatest([1, 2, 5, 4])\n",
    "resultado1"
   ]
  },
  {
   "cell_type": "code",
   "execution_count": 3,
   "id": "6c752e6c",
   "metadata": {},
   "outputs": [],
   "source": [
    "def sum_all(arr):\n",
    "    result = 0\n",
    "    \n",
    "    for i in range(len(arr)):\n",
    "        result = arr[i] + result\n",
    "    return result"
   ]
  },
  {
   "cell_type": "code",
   "execution_count": 4,
   "id": "79efef1d",
   "metadata": {},
   "outputs": [
    {
     "name": "stdout",
     "output_type": "stream",
     "text": [
      "12\n"
     ]
    }
   ],
   "source": [
    "resultado2 = sum_all([1, 2, 5, 4])\n",
    "print(resultado2)"
   ]
  },
  {
   "cell_type": "code",
   "execution_count": 5,
   "id": "014465c7",
   "metadata": {},
   "outputs": [],
   "source": [
    "def sum_all(arr):\n",
    "    result = 0\n",
    "    for e in arr:\n",
    "        result = e + result\n",
    "    return result"
   ]
  },
  {
   "cell_type": "code",
   "execution_count": 6,
   "id": "e141ad9b",
   "metadata": {},
   "outputs": [
    {
     "name": "stdout",
     "output_type": "stream",
     "text": [
      "15\n"
     ]
    }
   ],
   "source": [
    "resultado2 = sum_all([1, 5, 5, 4])\n",
    "print(resultado2)"
   ]
  },
  {
   "cell_type": "code",
   "execution_count": 7,
   "id": "73a7ad98",
   "metadata": {},
   "outputs": [],
   "source": [
    "def mult_all(arr):\n",
    "    result = 1\n",
    "    for e in arr:\n",
    "        result = e * result\n",
    "    return result\n"
   ]
  },
  {
   "cell_type": "code",
   "execution_count": 8,
   "id": "2aea2196",
   "metadata": {},
   "outputs": [
    {
     "name": "stdout",
     "output_type": "stream",
     "text": [
      "100\n"
     ]
    },
    {
     "data": {
      "text/plain": [
       "100"
      ]
     },
     "execution_count": 8,
     "metadata": {},
     "output_type": "execute_result"
    }
   ],
   "source": [
    "resultado3 = mult_all([1, 5, 5, 4])\n",
    "print(resultado3)\n",
    "resultado3"
   ]
  },
  {
   "cell_type": "code",
   "execution_count": 9,
   "id": "db08e992",
   "metadata": {},
   "outputs": [],
   "source": [
    "def oper_all(arr, oper):\n",
    "    result1 = 0\n",
    "    if oper == '+':\n",
    "        result1 = sum_all\n",
    "    elif oper == '*':\n",
    "        result1 = mult_all\n",
    "    return result1"
   ]
  },
  {
   "cell_type": "code",
   "execution_count": 10,
   "id": "dd73c5ff",
   "metadata": {},
   "outputs": [
    {
     "name": "stdout",
     "output_type": "stream",
     "text": [
      "<function sum_all at 0x0000028B7CEC9510>\n"
     ]
    }
   ],
   "source": [
    "resultado_4 = oper_all([1, 5, 5, 4], '+')\n",
    "print(resultado_4)"
   ]
  },
  {
   "cell_type": "code",
   "execution_count": 11,
   "id": "f552a948",
   "metadata": {},
   "outputs": [],
   "source": [
    "def oper_all(arr, oper):\n",
    "    result = arr[0]\n",
    "    if oper == \"+\":\n",
    "        for element in arr[1:]:\n",
    "            result += element\n",
    "    elif oper == \"*\":\n",
    "        for element in arr[1:]:\n",
    "            result *= element\n",
    "    return result"
   ]
  },
  {
   "cell_type": "code",
   "execution_count": 12,
   "id": "27653176",
   "metadata": {},
   "outputs": [
    {
     "name": "stdout",
     "output_type": "stream",
     "text": [
      "100\n"
     ]
    }
   ],
   "source": [
    "resultado_4 = oper_all([1, 5, 5, 4], '*')\n",
    "print(resultado_4)"
   ]
  },
  {
   "cell_type": "code",
   "execution_count": 13,
   "id": "43aab23f",
   "metadata": {},
   "outputs": [],
   "source": [
    "def factorial(n):\n",
    "    result = 1\n",
    "    e = 1\n",
    "    while e <= n:\n",
    "        result *= i\n",
    "        e += 1\n",
    "    return result"
   ]
  },
  {
   "cell_type": "code",
   "execution_count": 14,
   "id": "8eb434f9",
   "metadata": {},
   "outputs": [
    {
     "ename": "NameError",
     "evalue": "name 'i' is not defined",
     "output_type": "error",
     "traceback": [
      "\u001b[1;31m---------------------------------------------------------------------------\u001b[0m",
      "\u001b[1;31mNameError\u001b[0m                                 Traceback (most recent call last)",
      "Cell \u001b[1;32mIn[14], line 1\u001b[0m\n\u001b[1;32m----> 1\u001b[0m factorial_3 \u001b[38;5;241m=\u001b[39m \u001b[43mfactorial\u001b[49m\u001b[43m(\u001b[49m\u001b[38;5;241;43m5\u001b[39;49m\u001b[43m)\u001b[49m\n\u001b[0;32m      2\u001b[0m \u001b[38;5;28mprint\u001b[39m(factorial_3)\n",
      "Cell \u001b[1;32mIn[13], line 5\u001b[0m, in \u001b[0;36mfactorial\u001b[1;34m(n)\u001b[0m\n\u001b[0;32m      3\u001b[0m e \u001b[38;5;241m=\u001b[39m \u001b[38;5;241m1\u001b[39m\n\u001b[0;32m      4\u001b[0m \u001b[38;5;28;01mwhile\u001b[39;00m e \u001b[38;5;241m<\u001b[39m\u001b[38;5;241m=\u001b[39m n:\n\u001b[1;32m----> 5\u001b[0m     result \u001b[38;5;241m*\u001b[39m\u001b[38;5;241m=\u001b[39m \u001b[43mi\u001b[49m\n\u001b[0;32m      6\u001b[0m     e \u001b[38;5;241m+\u001b[39m\u001b[38;5;241m=\u001b[39m \u001b[38;5;241m1\u001b[39m\n\u001b[0;32m      7\u001b[0m \u001b[38;5;28;01mreturn\u001b[39;00m result\n",
      "\u001b[1;31mNameError\u001b[0m: name 'i' is not defined"
     ]
    }
   ],
   "source": [
    "factorial_3 = factorial(5)\n",
    "print(factorial_3)"
   ]
  },
  {
   "cell_type": "code",
   "execution_count": null,
   "id": "1a63ae06",
   "metadata": {},
   "outputs": [],
   "source": [
    "def unique(arr):\n",
    "    unique = []\n",
    "    for element in arr:\n",
    "        if element not in unique:\n",
    "            unique.append(element)\n",
    "    return unique\n",
    "#creamos una lista que contenga los valores no repetidos\n",
    "# recorremos los valores de arr \n",
    "#si el valor no está en la lista nueva, lo añade\n",
    "#de otra manera vuelve al principio\n",
    "\n",
    "        "
   ]
  },
  {
   "cell_type": "code",
   "execution_count": null,
   "id": "9522015f",
   "metadata": {},
   "outputs": [],
   "source": [
    "lstUnique = unique([1, 5, 5, 4])\n",
    "print( lstUnique )"
   ]
  },
  {
   "cell_type": "code",
   "execution_count": null,
   "id": "9ffac3b5",
   "metadata": {},
   "outputs": [],
   "source": [
    "lista = [1, 2, 3, 4, 5]\n",
    "nueva_lista = lista[1:]\n",
    "print(nueva_lista)"
   ]
  },
  {
   "cell_type": "code",
   "execution_count": null,
   "id": "9a5d4493",
   "metadata": {},
   "outputs": [],
   "source": [
    "def count_elements(arr):\n",
    "    counts = {}\n",
    "    for element in arr:\n",
    "        if element in counts:\n",
    "            counts[element] += 1\n",
    "        else:\n",
    "            counts[element] = 1\n",
    "    return counts\n"
   ]
  },
  {
   "cell_type": "code",
   "execution_count": null,
   "id": "9eb4b34b",
   "metadata": {},
   "outputs": [],
   "source": [
    "def calculate_mode(lst):\n",
    "    counts = {}\n",
    "    for element in lst:\n",
    "        if element in counts:\n",
    "            counts[element] += 1\n",
    "        else:\n",
    "            counts[element] = 1\n",
    "\n",
    "    max_count = 0\n",
    "    mode = []\n",
    "    for element, count in counts.items():\n",
    "        if count > max_count:\n",
    "            max_count = count\n",
    "            mode = [element]\n",
    "        elif count == max_count:\n",
    "            mode.append(element)\n",
    "\n",
    "    return mode"
   ]
  },
  {
   "cell_type": "code",
   "execution_count": null,
   "id": "1cbf7997",
   "metadata": {},
   "outputs": [],
   "source": [
    "def mode_counter(arr):\n",
    "    dicc = {}\n",
    "    for e in arr:\n",
    "        if e in dicc:\n",
    "            dicc[e] += 1\n",
    "        else:\n",
    "            dicc[e] = 1\n",
    "    count = 0\n",
    "    mode = ''\n",
    "    for e, v in dicc.items():\n",
    "        if v > count:\n",
    "            count = v\n",
    "            mode= e\n",
    "        elif v == count:\n",
    "            mode = e\n",
    "    return mode"
   ]
  },
  {
   "cell_type": "code",
   "execution_count": null,
   "id": "70291049",
   "metadata": {},
   "outputs": [],
   "source": [
    "lst = [1, 4, 6, 7, 8, 8, 8, 9]\n",
    "lst_count = mode_counter(lst)\n",
    "lst_count"
   ]
  },
  {
   "cell_type": "code",
   "execution_count": null,
   "id": "36f09548",
   "metadata": {},
   "outputs": [],
   "source": [
    "\n",
    "def st_dev(arr):\n",
    "    n = 0\n",
    "    suma = 0\n",
    "    for i in arr:\n",
    "        n += 1\n",
    "        suma += i\n",
    "    media = suma / n\n",
    "    sumatorio_diferencia = 0\n",
    "    for i in arr:\n",
    "        diferencia = i - media\n",
    "        sumatorio_diferencia += diferencia**2\n",
    "    varianza = sumatorio_diferencia / (n-1)\n",
    "    st_dev = varianza **0.5\n",
    "    return st_dev"
   ]
  },
  {
   "cell_type": "code",
   "execution_count": null,
   "id": "0a4cbe22",
   "metadata": {},
   "outputs": [],
   "source": [
    "def pangram(string):\n",
    "    lst = ['A', 'B', 'C', 'D', 'E', 'F', 'G', 'H', 'I', 'J', 'K', 'L', 'M', 'N', 'O', 'P', 'Q', 'R', 'S', 'T', 'U', 'V', 'W', 'X', 'Y', 'Z', 'a', 'b', 'c', 'd', 'e', 'f', 'g', 'h', 'i', 'j', 'k', 'l', 'm', 'n', 'o', 'p', 'q', 'r', 's', 't', 'u', 'v', 'w', 'x', 'y', 'z']\n",
    "    pangram = bool\n",
    "    i = 0\n",
    "    for e in string:\n",
    "        if e == lst[i]:\n",
    "            pangram = True\n",
    "            \n",
    "        else:\n",
    "            pangram = False\n",
    "        i += 1   \n",
    "            \n",
    "    return pangram\n"
   ]
  },
  {
   "cell_type": "code",
   "execution_count": null,
   "id": "88ab5a9f",
   "metadata": {},
   "outputs": [],
   "source": [
    "string1 = \"The quick brown fox jumps over the lazy dog\"\n",
    "pangram_string1 = pangram(string1)\n",
    "pangram_string1\n"
   ]
  },
  {
   "cell_type": "code",
   "execution_count": null,
   "id": "7f7dfca7",
   "metadata": {},
   "outputs": [],
   "source": [
    "def sort_alpha(string):\n",
    "    words = []\n",
    "    current_word = \"\"\n",
    "\n",
    "    for char in string:\n",
    "        if char == \",\":\n",
    "            words.append(current_word)\n",
    "            current_word = \"\"\n",
    "            print(current_word)\n",
    "        else:\n",
    "            current_word += char\n",
    "\n",
    "    words.append(current_word)\n",
    "    sorted_words = sorted(words)\n",
    "\n",
    "    sorted_string = \"\"\n",
    "    for i, word in enumerate(sorted_words):\n",
    "        sorted_string += word\n",
    "        if i != len(sorted_words) - 1:\n",
    "            sorted_string += \",\"\n",
    "\n",
    "    return sorted_string"
   ]
  },
  {
   "cell_type": "code",
   "execution_count": null,
   "id": "d850e323",
   "metadata": {},
   "outputs": [],
   "source": [
    "input_string = \"orange,apple,banana,cherry\"\n",
    "print(sort_alpha(input_string))"
   ]
  },
  {
   "cell_type": "code",
   "execution_count": null,
   "id": "acc5e697",
   "metadata": {},
   "outputs": [],
   "source": [
    "def check_pass(string):\n",
    "    variables = {'char': 0, 'lower':0, 'upper': 0, 'number' : 0, 'specialchar': 0}\n",
    "    for char in string:\n",
    "        if char :\n",
    "            variables['char'] +=1\n",
    "        elif char == lower:\n",
    "            variables['lower'] +=1\n",
    "        elif char == upper:\n",
    "            variables['upper'] +=1\n",
    "        elif char == int:\n",
    "            variables['number'] +=1\n",
    "        elif char == upper:\n",
    "            variables['specialchar'] +=1\n",
    "        \n",
    "        \n",
    "            \n",
    "            \n",
    "            \n",
    "    pass"
   ]
  },
  {
   "cell_type": "code",
   "execution_count": null,
   "id": "2236c6a9",
   "metadata": {},
   "outputs": [],
   "source": [
    "def check_pass(string):\n",
    "    special_characters = ['#', '@', '!', '$', '%', '&', '(', ')', '^', '*', '[', ']', '{', '}']\n",
    "    lower = False\n",
    "    upper = False\n",
    "    digit = False\n",
    "    special = False\n",
    "    longitud_contra = 0\n",
    "    for i in string:\n",
    "        longitud_contra += 1\n",
    "    if longitud_contra < 8:\n",
    "        return False\n",
    "    for i in string:\n",
    "        if i.islower():\n",
    "            lower = True\n",
    "        if i.isupper():\n",
    "            upper = True\n",
    "        if i.isdigit():\n",
    "            digit = True\n",
    "        if i in special_characters:\n",
    "            special = True\n",
    "    return lower and upper and digit and special"
   ]
  },
  {
   "cell_type": "code",
   "execution_count": null,
   "id": "72332ca3",
   "metadata": {},
   "outputs": [],
   "source": [
    "mi_diccionario = {\"key\": 10}\n",
    "mi_diccionario[\"key\"] += 1\n",
    "\n",
    "print(mi_diccionario[\"key\"])  # Output: 11"
   ]
  },
  {
   "cell_type": "code",
   "execution_count": null,
   "id": "b18c247e",
   "metadata": {},
   "outputs": [],
   "source": [
    "12. Write a function to check if a given password is strong \n",
    "at least 8 characters, at least one lower case, at least one upper case, at least one number and at least one special character\n",
    "\n",
    "It should output True if strong and False if not."
   ]
  },
  {
   "cell_type": "code",
   "execution_count": null,
   "id": "99d3e094",
   "metadata": {},
   "outputs": [],
   "source": [
    "def oper_all(arr, oper):\n",
    "    result = arr[0]\n",
    "    if oper == \"+\":\n",
    "        for e in arr[1:]:\n",
    "            result += e\n",
    "    elif oper == \"*\":\n",
    "        for e in arr[1:]:\n",
    "            result *= e\n",
    "    return result"
   ]
  },
  {
   "cell_type": "code",
   "execution_count": null,
   "id": "53a72a23",
   "metadata": {},
   "outputs": [],
   "source": [
    "lst = [2, 3, 6, 2, 1]\n",
    "operall1 = oper_all(lst,'+')\n",
    "operall1"
   ]
  },
  {
   "cell_type": "code",
   "execution_count": null,
   "id": "2b001110",
   "metadata": {},
   "outputs": [],
   "source": [
    "def sum_all(arr):\n",
    "    result = 0\n",
    "    for e in arr:\n",
    "        result += e \n",
    "    return result"
   ]
  },
  {
   "cell_type": "code",
   "execution_count": null,
   "id": "d0f93ef5",
   "metadata": {},
   "outputs": [],
   "source": [
    "lst[1:]\n"
   ]
  },
  {
   "cell_type": "code",
   "execution_count": null,
   "id": "83bb3b24",
   "metadata": {},
   "outputs": [],
   "source": [
    "def oper_all(arr, oper):\n",
    "    result = arr[0]\n",
    "    if oper == \"+\":\n",
    "        for e in arr[1:]:\n",
    "            result = sum_all(arr)\n",
    "    elif oper == \"*\":\n",
    "        for e in arr[1:]:\n",
    "            result = mult_all(arr)\n",
    "    return result"
   ]
  },
  {
   "cell_type": "code",
   "execution_count": null,
   "id": "4118c9da",
   "metadata": {},
   "outputs": [],
   "source": [
    "lst = [2, 3, 6, 2, 1]\n",
    "operall1 = oper_all(lst,'*')\n",
    "operall1"
   ]
  },
  {
   "cell_type": "code",
   "execution_count": null,
   "id": "e417fd5b",
   "metadata": {},
   "outputs": [],
   "source": [
    "def factorial(n):\n",
    "    result = 1\n",
    "    e = 1\n",
    "    while e <= n :\n",
    "        result *= e\n",
    "        e += 1\n",
    "    return result\n",
    "\n",
    "        "
   ]
  },
  {
   "cell_type": "code",
   "execution_count": null,
   "id": "90def77d",
   "metadata": {},
   "outputs": [],
   "source": [
    "x = factorial(4)\n",
    "x"
   ]
  },
  {
   "cell_type": "code",
   "execution_count": null,
   "id": "777ccd16",
   "metadata": {},
   "outputs": [],
   "source": [
    "def factorial(n):\n",
    "    result = 1\n",
    "    e = 1\n",
    "    while e <= n:\n",
    "        result *= e\n",
    "        e += 1\n",
    "    return result"
   ]
  },
  {
   "cell_type": "code",
   "execution_count": null,
   "id": "1ed5cd84",
   "metadata": {},
   "outputs": [],
   "source": [
    "def unique(arr):\n",
    "    unique = []\n",
    "    for element in arr:\n",
    "        if element not in unique:\n",
    "            unique.append(element)\n",
    "    return unique"
   ]
  },
  {
   "cell_type": "code",
   "execution_count": null,
   "id": "8f9dba4b",
   "metadata": {},
   "outputs": [],
   "source": [
    "unique1 = unique(lst)\n",
    "unique1"
   ]
  },
  {
   "cell_type": "code",
   "execution_count": null,
   "id": "761d282c",
   "metadata": {},
   "outputs": [],
   "source": [
    "def calculate_mode(lst):\n",
    "    mode_dicc = {}\n",
    "    for e in lst:\n",
    "        mode_dicc(key) = e\n"
   ]
  },
  {
   "cell_type": "code",
   "execution_count": null,
   "id": "5511a93e",
   "metadata": {},
   "outputs": [],
   "source": [
    "mode_dicc = {}\n",
    "lst = [2, 3, 6, 2, 1]\n",
    "for e in lst:\n",
    "    mode_dicc[e] = e\n",
    "print(mode_dicc)\n",
    "\n",
    "mi_lista = [1, 2, 3, 4, 5]\n",
    "mi_diccionario = {}\n",
    "for valor in mi_lista:\n",
    "    mi_diccionario[valor] = valor\n",
    "\n",
    "print(mi_diccionario)"
   ]
  },
  {
   "cell_type": "code",
   "execution_count": null,
   "id": "5780d5db",
   "metadata": {},
   "outputs": [],
   "source": [
    "def calculate_mode(lst):\n",
    "    counts = {}\n",
    "    for e in lst:\n",
    "        if e not in counts:\n",
    "            counts[e] = 1\n",
    "        else:\n",
    "            counts[e] += 1\n",
    "            \n",
    "\n",
    "    max_count = 0\n",
    "    mode = ''\n",
    "    for e, v in counts.items():\n",
    "        if v > max_count:\n",
    "            max_count = v\n",
    "            mode = [e]\n",
    "        elif v == max_count:\n",
    "            mode.append(e)\n",
    "\n",
    "    return mode\n",
    "\n",
    "lst = [3, 2, 3, 6, 1, 3, 4, 4, 3, 4, 3]\n",
    "mode_lst = calculate_mode(lst)\n",
    "mode_lst"
   ]
  },
  {
   "cell_type": "code",
   "execution_count": null,
   "id": "ad2da819",
   "metadata": {},
   "outputs": [],
   "source": [
    "lst = [2, 3, 6, 2, 1]\n",
    "mode_lst = calculate_mode(lst)\n",
    "mode_lst"
   ]
  },
  {
   "cell_type": "code",
   "execution_count": null,
   "id": "b56deae4",
   "metadata": {},
   "outputs": [],
   "source": [
    "def pangram(string):\n",
    "    alphabet  = \"abcdefghijklmnopqrstuvwxyz\"\n",
    "    string_lower = string.lower()\n",
    "    x = ''\n",
    "    for e in alphabet:\n",
    "        if e in string_lower:\n",
    "            x = True\n",
    "        else:\n",
    "            x = False\n",
    "    return x"
   ]
  },
  {
   "cell_type": "code",
   "execution_count": null,
   "id": "024a7aaa",
   "metadata": {},
   "outputs": [],
   "source": [
    "string1 = \"The quick brown fox jumps over the lazy dog\"\n",
    "pangram_string1 = pangram(string1)\n",
    "pangram_string1"
   ]
  },
  {
   "cell_type": "code",
   "execution_count": null,
   "id": "c9eaec7f",
   "metadata": {},
   "outputs": [],
   "source": [
    "def es_pangrama(cadena):\n",
    "    alfabeto = \"abcdefghijklmnopqrstuvwxyz\"\n",
    "    cadena = cadena.lower()\n",
    "\n",
    "    for letra in alfabeto:\n",
    "        if letra not in cadena:\n",
    "            return False\n",
    "    \n",
    "    return True"
   ]
  },
  {
   "cell_type": "code",
   "execution_count": null,
   "id": "6ed4f7e3",
   "metadata": {},
   "outputs": [],
   "source": [
    "string1 = \"The quick brown fox jumps over the lazy dog\"\n",
    "pangram_string1 = es_pangrama(string1)\n",
    "pangram_string1"
   ]
  },
  {
   "cell_type": "code",
   "execution_count": null,
   "id": "9843b009",
   "metadata": {},
   "outputs": [],
   "source": [
    "def pangram(string):\n",
    "    alphabet = \"abcdefghijklmnopqrstuvwxyz\"\n",
    "    string = string.lower()\n",
    "    \n",
    "    for e in alphabet:\n",
    "        if e in string:\n",
    "            True\n",
    "        else:\n",
    "            return False\n",
    "        \n",
    "    return True\n"
   ]
  },
  {
   "cell_type": "code",
   "execution_count": null,
   "id": "63470f5a",
   "metadata": {},
   "outputs": [],
   "source": [
    "string1 = \"The quick rown fox jumps over the lazy dog\"\n",
    "pangram_string1 = pangram(string1)\n",
    "pangram_string1"
   ]
  },
  {
   "cell_type": "code",
   "execution_count": null,
   "id": "0904e698",
   "metadata": {},
   "outputs": [],
   "source": [
    "\"\"\"\n",
    "11. Write a function that receives a string of comma separated words \n",
    "and returns a string of comma separated words sorted alphabetically.\n",
    "\n",
    "\"\"\"\n"
   ]
  },
  {
   "cell_type": "code",
   "execution_count": null,
   "id": "694cbd28",
   "metadata": {},
   "outputs": [],
   "source": [
    "def sort_alpha(string):\n",
    "    words_string = []\n",
    "    word =''\n",
    "    for e in string:\n",
    "        if e == ',':\n",
    "            word = e\n",
    "            words_string.append(e)\n"
   ]
  },
  {
   "cell_type": "code",
   "execution_count": null,
   "id": "d63f9f06",
   "metadata": {},
   "outputs": [],
   "source": [
    "def sort_alpha(string):\n",
    "    words = []\n",
    "    current_word = \"\"\n",
    "\n",
    "    for char in string:\n",
    "        if char == \",\":\n",
    "            words.append(current_word)\n",
    "            current_word = \"\"\n",
    "            print(current_word)\n",
    "        else:\n",
    "            current_word += char"
   ]
  },
  {
   "cell_type": "code",
   "execution_count": null,
   "id": "caaf02d0",
   "metadata": {},
   "outputs": [],
   "source": [
    "string_ = 'hola,que,tal,estas'\n",
    "string1 = sort_alpha(string_)\n",
    "print(string1)"
   ]
  },
  {
   "cell_type": "code",
   "execution_count": null,
   "id": "271adad5",
   "metadata": {},
   "outputs": [],
   "source": [
    "string_ = 'hola,que,tal,estas'\n",
    "words_string = []\n",
    "word = ''\n",
    "\n",
    "for e in string:\n",
    "    if e == ',':\n",
    "        word = e\n",
    "        words_string.append(e)\n",
    "        print(word)\n",
    "    else:\n",
    "        word += char\n",
    "words_string\n",
    "\n"
   ]
  },
  {
   "cell_type": "code",
   "execution_count": null,
   "id": "7adeb473",
   "metadata": {},
   "outputs": [],
   "source": [
    "def sort_alpha(string):\n",
    "    words = []\n",
    "    current_word = \"\"\n",
    "\n",
    "    for char in string:\n",
    "        if char == \",\":\n",
    "            words.append(current_word)\n",
    "            current_word = \"\"\n",
    "            print(current_word)\n",
    "        else:\n",
    "            current_word += char\n",
    "\n",
    "    def ordenar_lista(lista):\n",
    "        n = len(lista)\n",
    "        i = 0\n",
    "        while i < n:\n",
    "            min_idx = i\n",
    "            j = i + 1\n",
    "            while j < n:\n",
    "            if lista[j] < lista[min_idx]:\n",
    "                min_idx = j\n",
    "            j += 1\n",
    "        lista[i], lista[min_idx] = lista[min_idx], lista[i]\n",
    "        i += 1\n",
    "\n",
    "    sorted_string = \"\"\n",
    "    for i, word in enumerate(sorted_words):\n",
    "        sorted_string += word\n",
    "        if i != len(sorted_words) - 1:\n",
    "            sorted_string += \",\"\n",
    "\n",
    "    return sorted_string"
   ]
  },
  {
   "cell_type": "code",
   "execution_count": null,
   "id": "865bfc35",
   "metadata": {},
   "outputs": [],
   "source": [
    "string1 = 'hola,que,tal,estas'\n",
    "sort_string1 = sort_alpha(string1)\n",
    "print(sort_string1)"
   ]
  },
  {
   "cell_type": "code",
   "execution_count": 18,
   "id": "e723bf4a",
   "metadata": {},
   "outputs": [
    {
     "name": "stdout",
     "output_type": "stream",
     "text": [
      "['hola', 'que', 'tal', 'estas']\n"
     ]
    }
   ],
   "source": [
    "string1 = 'hola,que,tal,estas'\n",
    "list_string1 = string1.split(',')\n",
    "print(list_string1)"
   ]
  },
  {
   "cell_type": "code",
   "execution_count": 19,
   "id": "355c037b",
   "metadata": {},
   "outputs": [
    {
     "name": "stdout",
     "output_type": "stream",
     "text": [
      "['estas', 'hola', 'que', 'tal']\n"
     ]
    }
   ],
   "source": [
    "list_string1\n",
    "list_string1.sort()\n",
    "print(list_string1)"
   ]
  },
  {
   "cell_type": "code",
   "execution_count": 20,
   "id": "c831079b",
   "metadata": {},
   "outputs": [],
   "source": [
    "def sort_alpha(string):\n",
    "    lst_words = []\n",
    "    word = ''\n",
    "    for char in string:\n",
    "        if char == ',':\n",
    "            lstwords.append(char)\n",
    "        else:\n",
    "            word += char\n",
    "    #para separar sin usar string.split(',')\n",
    "    lst_letras = []\n",
    "    for word in lst_words:\n",
    "        lst_letras = word[0]\n",
    "        lst_letras.append(word)\n",
    "    #una vez separadas la primera letra de cada palabra le asignamos un valor con el diccionario alphabet a la inversa\n",
    "    \n",
    "    alphabet = {'a': 26, 'b': 25, 'c': 24, 'd': 23, 'e': 22, 'f': 21, 'g': 20, 'h': 19, 'i': 18, 'j': 17, 'k': 16, 'l': 15, 'm': 14, 'n': 13, 'o': 12, 'p': 11, 'q': 10, 'r': 9, 's': 8, 't': 7, 'u': 6, 'v': 5, 'w': 4, 'x': 3, 'y': 2, 'z': 1}\n",
    "    dicc_letras = {}\n",
    "    for e in lst_letras:\n",
    "        if e in alphabet:\n",
    "            dicc_letras[e] = alphabet[e]\n",
    "    letras_ordenadas = []\n",
    "    \n"
   ]
  },
  {
   "cell_type": "code",
   "execution_count": null,
   "id": "4a3e6d6b",
   "metadata": {},
   "outputs": [],
   "source": [
    "letras = ['h', 'q', 't', 'e']\n",
    "diccionario_anterior = {'a': 26, 'b': 25, 'c': 24, 'd': 23, 'e': 22, 'f': 21, 'g': 20, 'h': 19, 'i': 18, 'j': 17, 'k': 16, 'l': 15, 'm': 14, 'n': 13, 'o': 12, 'p': 11, 'q': 10, 'r': 9, 's': 8, 't': 7, 'u': 6, 'v': 5, 'w': 4, 'x': 3, 'y': 2, 'z': 1}\n",
    "diccionario_nuevo = {}\n",
    "\n",
    "for letra in letras:\n",
    "    if letra in diccionario_anterior:\n",
    "        diccionario_nuevo[letra] = diccionario_anterior[letra]\n",
    "\n",
    "print(diccionario_nuevo)\n"
   ]
  }
 ],
 "metadata": {
  "kernelspec": {
   "display_name": "base",
   "language": "python",
   "name": "base"
  },
  "language_info": {
   "codemirror_mode": {
    "name": "ipython",
    "version": 3
   },
   "file_extension": ".py",
   "mimetype": "text/x-python",
   "name": "python",
   "nbconvert_exporter": "python",
   "pygments_lexer": "ipython3",
   "version": "3.10.9"
  }
 },
 "nbformat": 4,
 "nbformat_minor": 5
}
